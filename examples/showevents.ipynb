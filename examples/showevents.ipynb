{
 "cells": [
  {
   "cell_type": "markdown",
   "metadata": {},
   "source": [
    "# MedPC event reading example\n",
    "\n",
    "Demonstration of loading a set of subjects data from a MedPC format and plotting by subject and event.\n",
    "\n",
    "This example assumes MedPC data files are in the same folder as the notebook file."
   ]
  },
  {
   "cell_type": "code",
   "execution_count": null,
   "metadata": {},
   "outputs": [],
   "source": [
    "import glob\n",
    "import numpy as np\n",
    "import pandas as pd\n",
    "import behapy.medpc as medpc\n",
    "import seaborn as sns"
   ]
  },
  {
   "cell_type": "markdown",
   "metadata": {},
   "source": [
    "Map event indices to event names."
   ]
  },
  {
   "cell_type": "code",
   "execution_count": null,
   "metadata": {},
   "outputs": [],
   "source": [
    "EVENTS = {1: 'Event 1',\n",
    "          2: 'Event 2',\n",
    "          3: 'Event 3',\n",
    "          4: 'Event 4',\n",
    "          5: 'Event 5',\n",
    "          6: 'Event 6'}"
   ]
  },
  {
   "cell_type": "markdown",
   "metadata": {},
   "source": [
    "Load data from all files prefixed with 'Backup of Box...' into a single DataFrame."
   ]
  },
  {
   "cell_type": "code",
   "execution_count": null,
   "metadata": {},
   "outputs": [],
   "source": [
    "all_info = []\n",
    "all_events = []\n",
    "for fn in glob.glob('Backup of Box*.txt'):\n",
    "    variables = medpc.parse_file(fn)\n",
    "    info = medpc.experiment_info(variables)\n",
    "    events = medpc.get_events(variables['Z'], variables['Y'], EVENTS)\n",
    "    events['subject'] = info['subject']\n",
    "    events.set_index(['subject', 'timestamp'], inplace=True)\n",
    "    all_info.append(info)\n",
    "    all_events.append(events)\n",
    "\n",
    "if all_info:\n",
    "    info_df = pd.DataFrame(all_info)\n",
    "    info_df.set_index('subject', inplace=True)\n",
    "if all_events:\n",
    "    events_df = pd.concat(all_events)"
   ]
  },
  {
   "cell_type": "markdown",
   "metadata": {},
   "source": [
    "Bin events minute-by-minute for each subject and event."
   ]
  },
  {
   "cell_type": "code",
   "execution_count": null,
   "metadata": {},
   "outputs": [],
   "source": [
    "window = pd.Timedelta(60, 's')\n",
    "events_df = events_df.reset_index()\n",
    "binedges = np.arange(pd.Timedelta(0),\n",
    "                     events_df['timestamp'].max() + window,\n",
    "                     window)\n",
    "bins = pd.cut(events_df['timestamp'], bins=binedges,\n",
    "              labels=(binedges[:-1] + np.diff(binedges) / 2).astype('timedelta64[s]').astype(int))\n",
    "counts_df = events_df.groupby(['subject', 'event', bins]).count()\n",
    "counts_df = counts_df.rename(columns={'timestamp': 'count'})\n",
    "counts_df"
   ]
  },
  {
   "cell_type": "markdown",
   "metadata": {},
   "source": [
    "Plot each event."
   ]
  },
  {
   "cell_type": "code",
   "execution_count": null,
   "metadata": {},
   "outputs": [],
   "source": [
    "sns.set_theme()\n",
    "sns.relplot(data=counts_df, x='Timestamp', y='Count', hue='Subject',\n",
    "            row='Event', kind='line', height=5, aspect=3,\n",
    "            facet_kws=dict(sharex=True, sharey=False))"
   ]
  },
  {
   "cell_type": "code",
   "execution_count": null,
   "metadata": {},
   "outputs": [],
   "source": []
  }
 ],
 "metadata": {
  "kernelspec": {
   "display_name": "behapy",
   "language": "python",
   "name": "python3"
  },
  "language_info": {
   "codemirror_mode": {
    "name": "ipython",
    "version": 3
   },
   "file_extension": ".py",
   "mimetype": "text/x-python",
   "name": "python",
   "nbconvert_exporter": "python",
   "pygments_lexer": "ipython3",
   "version": "3.12.7"
  },
  "orig_nbformat": 4
 },
 "nbformat": 4,
 "nbformat_minor": 2
}
